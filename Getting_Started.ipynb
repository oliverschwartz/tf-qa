{
  "nbformat": 4,
  "nbformat_minor": 0,
  "metadata": {
    "colab": {
      "name": "Getting Started.ipynb",
      "provenance": [],
      "collapsed_sections": [],
      "include_colab_link": true
    },
    "kernelspec": {
      "name": "python3",
      "display_name": "Python 3"
    }
  },
  "cells": [
    {
      "cell_type": "markdown",
      "metadata": {
        "id": "view-in-github",
        "colab_type": "text"
      },
      "source": [
        "<a href=\"https://colab.research.google.com/github/oschwartz99/tf-qa/blob/master/Getting_Started.ipynb\" target=\"_parent\"><img src=\"https://colab.research.google.com/assets/colab-badge.svg\" alt=\"Open In Colab\"/></a>"
      ]
    },
    {
      "cell_type": "code",
      "metadata": {
        "id": "sqzZ6HHUqaAp",
        "colab_type": "code",
        "colab": {
          "base_uri": "https://localhost:8080/",
          "height": 319
        },
        "outputId": "6d9b9951-1a4e-4a51-e6a7-46bb0d0b0805"
      },
      "source": [
        "!pip install kaggle --upgrade\n",
        "!pip install jsonlines"
      ],
      "execution_count": 7,
      "outputs": [
        {
          "output_type": "stream",
          "text": [
            "Requirement already up-to-date: kaggle in /usr/local/lib/python3.6/dist-packages (1.5.6)\n",
            "Requirement already satisfied, skipping upgrade: python-dateutil in /usr/local/lib/python3.6/dist-packages (from kaggle) (2.6.1)\n",
            "Requirement already satisfied, skipping upgrade: six>=1.10 in /usr/local/lib/python3.6/dist-packages (from kaggle) (1.12.0)\n",
            "Requirement already satisfied, skipping upgrade: urllib3<1.25,>=1.21.1 in /usr/local/lib/python3.6/dist-packages (from kaggle) (1.24.3)\n",
            "Requirement already satisfied, skipping upgrade: requests in /usr/local/lib/python3.6/dist-packages (from kaggle) (2.21.0)\n",
            "Requirement already satisfied, skipping upgrade: tqdm in /usr/local/lib/python3.6/dist-packages (from kaggle) (4.28.1)\n",
            "Requirement already satisfied, skipping upgrade: certifi in /usr/local/lib/python3.6/dist-packages (from kaggle) (2019.9.11)\n",
            "Requirement already satisfied, skipping upgrade: python-slugify in /usr/local/lib/python3.6/dist-packages (from kaggle) (4.0.0)\n",
            "Requirement already satisfied, skipping upgrade: idna<2.9,>=2.5 in /usr/local/lib/python3.6/dist-packages (from requests->kaggle) (2.8)\n",
            "Requirement already satisfied, skipping upgrade: chardet<3.1.0,>=3.0.2 in /usr/local/lib/python3.6/dist-packages (from requests->kaggle) (3.0.4)\n",
            "Requirement already satisfied, skipping upgrade: text-unidecode>=1.3 in /usr/local/lib/python3.6/dist-packages (from python-slugify->kaggle) (1.3)\n",
            "Collecting jsonlines\n",
            "  Downloading https://files.pythonhosted.org/packages/4f/9a/ab96291470e305504aa4b7a2e0ec132e930da89eb3ca7a82fbe03167c131/jsonlines-1.2.0-py2.py3-none-any.whl\n",
            "Requirement already satisfied: six in /usr/local/lib/python3.6/dist-packages (from jsonlines) (1.12.0)\n",
            "Installing collected packages: jsonlines\n",
            "Successfully installed jsonlines-1.2.0\n"
          ],
          "name": "stdout"
        }
      ]
    },
    {
      "cell_type": "markdown",
      "metadata": {
        "id": "jawtC8XJmEQv",
        "colab_type": "text"
      },
      "source": [
        "**Download the data sets.**"
      ]
    },
    {
      "cell_type": "code",
      "metadata": {
        "id": "tkCgwJkDJwDk",
        "colab_type": "code",
        "colab": {
          "base_uri": "https://localhost:8080/",
          "height": 424
        },
        "outputId": "98cbade9-9704-4e29-cb95-5b93fe59aa41"
      },
      "source": [
        "!mkdir .kaggle\n",
        "!touch .kaggle/kaggle.json\n",
        "api_token = {\n",
        "    \"username\":\"oliverschwartz\", \n",
        "    \"key\":\"afca11ba71016959499fb6f20ffc5b21\"\n",
        "}\n",
        "\n",
        "import json\n",
        "import zipfile\n",
        "import os\n",
        "with open('/content/.kaggle/kaggle.json', 'w') as file:\n",
        "    json.dump(api_token, file)\n",
        "\n",
        "!chmod 600 /content/.kaggle/kaggle.json\n",
        "!kaggle competitions download -c tensorflow2-question-answering --force"
      ],
      "execution_count": 16,
      "outputs": [
        {
          "output_type": "stream",
          "text": [
            "Requirement already up-to-date: kaggle in /usr/local/lib/python3.6/dist-packages (1.5.6)\n",
            "Requirement already satisfied, skipping upgrade: python-slugify in /usr/local/lib/python3.6/dist-packages (from kaggle) (4.0.0)\n",
            "Requirement already satisfied, skipping upgrade: six>=1.10 in /usr/local/lib/python3.6/dist-packages (from kaggle) (1.12.0)\n",
            "Requirement already satisfied, skipping upgrade: certifi in /usr/local/lib/python3.6/dist-packages (from kaggle) (2019.9.11)\n",
            "Requirement already satisfied, skipping upgrade: python-dateutil in /usr/local/lib/python3.6/dist-packages (from kaggle) (2.6.1)\n",
            "Requirement already satisfied, skipping upgrade: requests in /usr/local/lib/python3.6/dist-packages (from kaggle) (2.21.0)\n",
            "Requirement already satisfied, skipping upgrade: tqdm in /usr/local/lib/python3.6/dist-packages (from kaggle) (4.28.1)\n",
            "Requirement already satisfied, skipping upgrade: urllib3<1.25,>=1.21.1 in /usr/local/lib/python3.6/dist-packages (from kaggle) (1.24.3)\n",
            "Requirement already satisfied, skipping upgrade: text-unidecode>=1.3 in /usr/local/lib/python3.6/dist-packages (from python-slugify->kaggle) (1.3)\n",
            "Requirement already satisfied, skipping upgrade: idna<2.9,>=2.5 in /usr/local/lib/python3.6/dist-packages (from requests->kaggle) (2.8)\n",
            "Requirement already satisfied, skipping upgrade: chardet<3.1.0,>=3.0.2 in /usr/local/lib/python3.6/dist-packages (from requests->kaggle) (3.0.4)\n",
            "mkdir: cannot create directory ‘.kaggle’: File exists\n",
            "Warning: Looks like you're using an outdated API Version, please consider updating (server 1.5.6 / client 1.5.4)\n",
            "Downloading sample_submission.csv to /content\n",
            "  0% 0.00/18.2k [00:00<?, ?B/s]\n",
            "100% 18.2k/18.2k [00:00<00:00, 7.12MB/s]\n",
            "Downloading simplified-nq-train.jsonl.zip to /content\n",
            "100% 4.46G/4.46G [01:57<00:00, 24.6MB/s]\n",
            "100% 4.46G/4.46G [02:00<00:00, 39.7MB/s]\n",
            "Downloading simplified-nq-test.jsonl.zip to /content\n",
            "  0% 0.00/4.78M [00:00<?, ?B/s]\n",
            "100% 4.78M/4.78M [00:00<00:00, 44.0MB/s]\n"
          ],
          "name": "stdout"
        }
      ]
    },
    {
      "cell_type": "code",
      "metadata": {
        "id": "n9RrLTr-qGlu",
        "colab_type": "code",
        "colab": {
          "base_uri": "https://localhost:8080/",
          "height": 87
        },
        "outputId": "aa04eb6e-624a-49f4-89a3-1e9a5e0e7cd1"
      },
      "source": [
        "!unzip simplified-nq-test.jsonl.zip\n",
        "!unzip simplified-nq-train.jsonl.zip"
      ],
      "execution_count": 6,
      "outputs": [
        {
          "output_type": "stream",
          "text": [
            "Archive:  simplified-nq-test.jsonl.zip\n",
            "  inflating: simplified-nq-test.jsonl  \n",
            "Archive:  simplified-nq-train.jsonl.zip\n",
            "  inflating: simplified-nq-train.jsonl  "
          ],
          "name": "stdout"
        }
      ]
    },
    {
      "cell_type": "markdown",
      "metadata": {
        "id": "-NeikgRKmcMw",
        "colab_type": "text"
      },
      "source": [
        "**Submission format**"
      ]
    },
    {
      "cell_type": "code",
      "metadata": {
        "id": "rWl45Dq5no0n",
        "colab_type": "code",
        "colab": {
          "base_uri": "https://localhost:8080/",
          "height": 52
        },
        "outputId": "6d797613-8090-49c8-be3e-c81831928bd9"
      },
      "source": [
        "!ls"
      ],
      "execution_count": 31,
      "outputs": [
        {
          "output_type": "stream",
          "text": [
            "sample_submission.csv\t      simplified-nq-train.jsonl.zip\n",
            "simplified-nq-test.jsonl.zip\n"
          ],
          "name": "stdout"
        }
      ]
    },
    {
      "cell_type": "markdown",
      "metadata": {
        "id": "xQUt5tgnoKmi",
        "colab_type": "text"
      },
      "source": [
        "`sample_submission.csv` represents the file format that we are required to submit. `example_id` is a string consisting of the document ID concatenated with either `long` or `short`, depending on whether the `PredictionString` is of long or short form."
      ]
    },
    {
      "cell_type": "code",
      "metadata": {
        "id": "eRpRXHldnlnf",
        "colab_type": "code",
        "colab": {}
      },
      "source": [
        "import pandas as pd\n",
        "df = pd.read_csv('sample_submission.csv')\n",
        "df.head()"
      ],
      "execution_count": 0,
      "outputs": []
    },
    {
      "cell_type": "markdown",
      "metadata": {
        "id": "I8IIVGhiovtx",
        "colab_type": "text"
      },
      "source": [
        "**Data exploration**: as below, the format of the training data is quite straightforward. We are provided with:\n",
        "- some metadata and the text of the article\n",
        "- a question about the article\n",
        "- a yes/no answer (if one exists) \n",
        "- a short form answer\n",
        "- a long form answer"
      ]
    },
    {
      "cell_type": "code",
      "metadata": {
        "id": "uZvaKGIlp3Z7",
        "colab_type": "code",
        "colab": {
          "base_uri": "https://localhost:8080/",
          "height": 498
        },
        "outputId": "86fcafcd-d9db-49e3-8c2b-4e286d24c73d"
      },
      "source": [
        "import pandas as pd\n",
        "import jsonlines\n",
        "import json\n",
        "\n",
        "sample_size = 100\n",
        "df = list()\n",
        "\n",
        "with jsonlines.open('simplified-nq-train.jsonl') as reader:\n",
        "  for i, obj in enumerate(reader):\n",
        "    if i >= sample_size: break\n",
        "    for k, v in obj.items():\n",
        "      obj[k] = str(v)\n",
        "    df.append(obj)\n",
        "\n",
        "df = pd.DataFrame(df, index=[i for i in range(sample_size)])\n",
        "df.head()"
      ],
      "execution_count": 38,
      "outputs": [
        {
          "output_type": "execute_result",
          "data": {
            "text/html": [
              "<div>\n",
              "<style scoped>\n",
              "    .dataframe tbody tr th:only-of-type {\n",
              "        vertical-align: middle;\n",
              "    }\n",
              "\n",
              "    .dataframe tbody tr th {\n",
              "        vertical-align: top;\n",
              "    }\n",
              "\n",
              "    .dataframe thead th {\n",
              "        text-align: right;\n",
              "    }\n",
              "</style>\n",
              "<table border=\"1\" class=\"dataframe\">\n",
              "  <thead>\n",
              "    <tr style=\"text-align: right;\">\n",
              "      <th></th>\n",
              "      <th>document_text</th>\n",
              "      <th>long_answer_candidates</th>\n",
              "      <th>question_text</th>\n",
              "      <th>annotations</th>\n",
              "      <th>document_url</th>\n",
              "      <th>example_id</th>\n",
              "    </tr>\n",
              "  </thead>\n",
              "  <tbody>\n",
              "    <tr>\n",
              "      <th>0</th>\n",
              "      <td>Email marketing - Wikipedia &lt;H1&gt; Email marketi...</td>\n",
              "      <td>[{'start_token': 14, 'top_level': True, 'end_t...</td>\n",
              "      <td>which is the most common use of opt-in e-mail ...</td>\n",
              "      <td>[{'yes_no_answer': 'NONE', 'long_answer': {'st...</td>\n",
              "      <td>https://en.wikipedia.org//w/index.php?title=Em...</td>\n",
              "      <td>5655493461695504401</td>\n",
              "    </tr>\n",
              "    <tr>\n",
              "      <th>1</th>\n",
              "      <td>The Mother ( How I Met Your Mother ) - wikiped...</td>\n",
              "      <td>[{'start_token': 28, 'top_level': True, 'end_t...</td>\n",
              "      <td>how i.met your mother who is the mother</td>\n",
              "      <td>[{'yes_no_answer': 'NONE', 'long_answer': {'st...</td>\n",
              "      <td>https://en.wikipedia.org//w/index.php?title=Th...</td>\n",
              "      <td>5328212470870865242</td>\n",
              "    </tr>\n",
              "    <tr>\n",
              "      <th>2</th>\n",
              "      <td>Human fertilization - wikipedia &lt;H1&gt; Human fer...</td>\n",
              "      <td>[{'start_token': 14, 'top_level': True, 'end_t...</td>\n",
              "      <td>what type of fertilisation takes place in humans</td>\n",
              "      <td>[{'yes_no_answer': 'NONE', 'long_answer': {'st...</td>\n",
              "      <td>https://en.wikipedia.org//w/index.php?title=Hu...</td>\n",
              "      <td>4435104480114867852</td>\n",
              "    </tr>\n",
              "    <tr>\n",
              "      <th>3</th>\n",
              "      <td>List of National Football League career quarte...</td>\n",
              "      <td>[{'start_token': 28, 'top_level': True, 'end_t...</td>\n",
              "      <td>who had the most wins in the nfl</td>\n",
              "      <td>[{'yes_no_answer': 'NONE', 'long_answer': {'st...</td>\n",
              "      <td>https://en.wikipedia.org//w/index.php?title=Li...</td>\n",
              "      <td>5289242154789678439</td>\n",
              "    </tr>\n",
              "    <tr>\n",
              "      <th>4</th>\n",
              "      <td>Roanoke Colony - wikipedia &lt;H1&gt; Roanoke Colony...</td>\n",
              "      <td>[{'start_token': 32, 'top_level': True, 'end_t...</td>\n",
              "      <td>what happened to the lost settlement of roanoke</td>\n",
              "      <td>[{'yes_no_answer': 'NONE', 'long_answer': {'st...</td>\n",
              "      <td>https://en.wikipedia.org//w/index.php?title=Ro...</td>\n",
              "      <td>5489863933082811018</td>\n",
              "    </tr>\n",
              "  </tbody>\n",
              "</table>\n",
              "</div>"
            ],
            "text/plain": [
              "                                       document_text  ...           example_id\n",
              "0  Email marketing - Wikipedia <H1> Email marketi...  ...  5655493461695504401\n",
              "1  The Mother ( How I Met Your Mother ) - wikiped...  ...  5328212470870865242\n",
              "2  Human fertilization - wikipedia <H1> Human fer...  ...  4435104480114867852\n",
              "3  List of National Football League career quarte...  ...  5289242154789678439\n",
              "4  Roanoke Colony - wikipedia <H1> Roanoke Colony...  ...  5489863933082811018\n",
              "\n",
              "[5 rows x 6 columns]"
            ]
          },
          "metadata": {
            "tags": []
          },
          "execution_count": 38
        }
      ]
    }
  ]
}